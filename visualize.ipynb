{
 "cells": [
  {
   "cell_type": "code",
   "execution_count": 1,
   "metadata": {},
   "outputs": [],
   "source": [
    "import numpy as np\n",
    "import matplotlib.pyplot as plt\n",
    "import seaborn as sns\n",
    "import pandas as pd\n",
    "import os\n",
    "import sys\n",
    "import scipy.sparse as sp\n",
    "import torch\n",
    "import pickle"
   ]
  },
  {
   "cell_type": "code",
   "execution_count": 2,
   "metadata": {},
   "outputs": [],
   "source": [
    "path = 'data/cold/Youshu/'\n",
    "ui = pd.read_csv(os.path.join(path, 'user_item.txt'), sep='\\t', header=None)\n",
    "bi = pd.read_csv(os.path.join(path, 'bundle_item.txt'), sep='\\t', header=None)\n",
    "ui.columns = ['user', 'item']\n",
    "bi.columns = ['bundle', 'item']\n",
    "\n",
    "ub_train = pd.read_csv(os.path.join(path, 'user_bundle_train.txt'), sep='\\t', header=None)\n",
    "ub_tune = pd.read_csv(os.path.join(path, 'user_bundle_tune.txt'), sep='\\t', header=None)\n",
    "ub_test = pd.read_csv(os.path.join(path, 'user_bundle_test.txt'), sep='\\t', header=None)\n",
    "# ub = pd.concat([ub_train, ub_tune, ub_test], ignore_index=True)\n",
    "# ub.columns = ['user', 'bundle']\n",
    "# ub_train.columns = ['user', 'bundle']\n",
    "# ub_tune.columns = ['user', 'bundle']\n",
    "# ub_test.columns = ['user', 'bundle']"
   ]
  },
  {
   "cell_type": "code",
   "execution_count": 36,
   "metadata": {},
   "outputs": [],
   "source": [
    "with open(os.path.join(path, 'bundle_item.txt'), 'r') as f:\n",
    "    bi_pairs = list(map(lambda s: tuple(int(i) for i in s[:-1].split('\\t')), f.readlines()))\n",
    "        \n",
    "indices = np.array(bi_pairs, dtype=np.int32)\n",
    "values = np.ones(len(bi_pairs))\n",
    "bi_graph = sp.coo_matrix((values, (indices[:, 0], indices[:, 1])), shape=(4771, 32770)).tocsr()\n",
    "\n",
    "with open(os.path.join(path, 'user_item.txt'), 'r') as f:\n",
    "    bi_pairs = list(map(lambda s: tuple(int(i) for i in s[:-1].split('\\t')), f.readlines()))\n",
    "        \n",
    "indices = np.array(bi_pairs, dtype=np.int32)\n",
    "values = np.ones(len(bi_pairs))\n",
    "ui_graph = sp.coo_matrix((values, (indices[:, 0], indices[:, 1])), shape=(8039, 32770)).tocsr()\n",
    "\n",
    "with open(os.path.join(path, 'user_bundle_train.txt'), 'r') as f:\n",
    "    ub_pairs = list(map(lambda s: tuple(int(i) for i in s[:-1].split('\\t')), f.readlines()))\n",
    "indices = np.array(ub_pairs, dtype=np.int32)\n",
    "values = np.ones(len(ub_pairs))\n",
    "ub_train_graph = sp.coo_matrix((values, (indices[:, 0], indices[:, 1])), shape=(8039, 4771)).tocsr()\n",
    "\n",
    "with open(os.path.join(path, 'user_bundle_tune.txt'), 'r') as f:\n",
    "    ub_pairs = list(map(lambda s: tuple(int(i) for i in s[:-1].split('\\t')), f.readlines()))\n",
    "indices = np.array(ub_pairs, dtype=np.int32)\n",
    "values = np.ones(len(ub_pairs))\n",
    "ub_tune_graph = sp.coo_matrix((values, (indices[:, 0], indices[:, 1])), shape=(8039, 4771)).tocsr()\n",
    "\n",
    "with open(os.path.join(path, 'user_bundle_test.txt'), 'r') as f:\n",
    "    ub_pairs = list(map(lambda s: tuple(int(i) for i in s[:-1].split('\\t')), f.readlines()))\n",
    "indices = np.array(ub_pairs, dtype=np.int32)\n",
    "values = np.ones(len(ub_pairs))\n",
    "ub_test_graph = sp.coo_matrix((values, (indices[:, 0], indices[:, 1])), shape=(8039, 4771)).tocsr()"
   ]
  },
  {
   "cell_type": "code",
   "execution_count": 37,
   "metadata": {},
   "outputs": [],
   "source": [
    "i_pop = ui_graph.sum(axis=0).reshape(-1, 1)\n",
    "u_pop = ub_train_graph.sum(axis=0).reshape(-1, 1)"
   ]
  },
  {
   "cell_type": "code",
   "execution_count": 42,
   "metadata": {},
   "outputs": [],
   "source": [
    "from collections import Counter\n",
    "\n",
    "value_counts = Counter(np.array(u_pop).flatten())"
   ]
  },
  {
   "cell_type": "code",
   "execution_count": 2,
   "metadata": {},
   "outputs": [
    {
     "ename": "NameError",
     "evalue": "name 'value_counts' is not defined",
     "output_type": "error",
     "traceback": [
      "\u001b[1;31m---------------------------------------------------------------------------\u001b[0m",
      "\u001b[1;31mNameError\u001b[0m                                 Traceback (most recent call last)",
      "Cell \u001b[1;32mIn[2], line 1\u001b[0m\n\u001b[1;32m----> 1\u001b[0m value_counts \u001b[38;5;241m=\u001b[39m \u001b[38;5;28msorted\u001b[39m(\u001b[43mvalue_counts\u001b[49m\u001b[38;5;241m.\u001b[39mitems(), key\u001b[38;5;241m=\u001b[39m\u001b[38;5;28;01mlambda\u001b[39;00m x: x[\u001b[38;5;241m0\u001b[39m])\n\u001b[0;32m      2\u001b[0m value_counts\n",
      "\u001b[1;31mNameError\u001b[0m: name 'value_counts' is not defined"
     ]
    }
   ],
   "source": [
    "value_counts = sorted(value_counts.items(), key=lambda x: x[0])\n",
    "value_counts"
   ]
  },
  {
   "cell_type": "code",
   "execution_count": 43,
   "metadata": {},
   "outputs": [
    {
     "data": {
      "image/png": "[encoded data removed]",
      "text/plain": [
       "<Figure size 1000x600 with 1 Axes>"
      ]
     },
     "metadata": {},
     "output_type": "display_data"
    }
   ],
   "source": [
    "# Extract keys and values from the value counts\n",
    "values = list(value_counts.keys())\n",
    "counts = list(value_counts.values())\n",
    "\n",
    "# Create a bar plot\n",
    "plt.figure(figsize=(10, 6))\n",
    "plt.bar(values, counts, color='skyblue')\n",
    "\n",
    "# Add title and labels\n",
    "plt.title('Value Counts in Matrix')\n",
    "plt.xlabel('Values')\n",
    "plt.ylabel('Counts')\n",
    "\n",
    "# Display the plot\n",
    "plt.xticks(values)  # Ensure all values appear on x-axis\n",
    "plt.show()\n"
   ]
  },
  {
   "cell_type": "code",
   "execution_count": 5,
   "metadata": {},
   "outputs": [],
   "source": [
    "def to_tensor(graph):\n",
    "    \"\"\"Convert to sparse tensor\"\"\"\n",
    "    graph = graph.tocoo()\n",
    "    values = graph.data\n",
    "    indices = np.vstack((graph.row, graph.col))\n",
    "    graph = torch.sparse_coo_tensor(torch.LongTensor(indices), torch.FloatTensor(values), torch.Size(graph.shape))\n",
    "    \n",
    "    return graph\n",
    "\n",
    "def laplace_transform(graph):\n",
    "    epsilon = 1e-8\n",
    "    rowsum_sqrt = sp.diags(1/(np.sqrt(graph.sum(axis=1).A.ravel()) + epsilon))\n",
    "    colsum_sqrt = sp.diags(1/(np.sqrt(graph.sum(axis=0).A.ravel()) + epsilon))\n",
    "    graph = rowsum_sqrt @ graph @ colsum_sqrt\n",
    "    \n",
    "    return graph\n",
    "\n",
    "def get_propagation_graph(bipartite_graph, modification_ratio=0):\n",
    "    device = torch.device('cpu')\n",
    "    propagation_graph = sp.bmat([[sp.csr_matrix((bipartite_graph.shape[0], bipartite_graph.shape[0])), bipartite_graph], [bipartite_graph.T, sp.csr_matrix((bipartite_graph.shape[1], bipartite_graph.shape[1]))]])\n",
    "    \n",
    "    if modification_ratio:\n",
    "        graph = propagation_graph.tocoo()\n",
    "        values = np_edge_dropout(graph.data, modification_ratio)\n",
    "        propagation_graph = sp.coo_matrix((values, (graph.row, graph.col)), shape=graph.shape).tocsr()\n",
    "    \n",
    "    return to_tensor(laplace_transform(propagation_graph)).to(device)"
   ]
  },
  {
   "cell_type": "markdown",
   "metadata": {},
   "source": [
    "# **EDA**"
   ]
  },
  {
   "cell_type": "code",
   "execution_count": 73,
   "metadata": {},
   "outputs": [
    {
     "name": "stdout",
     "output_type": "stream",
     "text": [
      "Item frequency in UI view:\n",
      "16253    778\n",
      "14647    410\n",
      "30487    408\n",
      "23602    407\n",
      "30693    393\n",
      "        ... \n",
      "28469      1\n",
      "29226      1\n",
      "31209      1\n",
      "18649      1\n",
      "7676       1\n",
      "Name: item, Length: 21034, dtype: int64\n",
      "\n",
      "\n",
      "\n",
      "Number of cold-item: 15864\n",
      "Number of warm-item: 5170\n",
      "Number of non-interacted item: 11736\n",
      "\n",
      "\n",
      "\n",
      "Statistics of item frequency in UI view:\n",
      "count    21034.000000\n",
      "mean         6.585290\n",
      "std         19.441295\n",
      "min          1.000000\n",
      "25%          1.000000\n",
      "50%          2.000000\n",
      "75%          4.000000\n",
      "max        778.000000\n",
      "Name: item, dtype: float64\n"
     ]
    }
   ],
   "source": [
    "i_ui = set(ui['item'].unique())\n",
    "i_bi = set(bi['item'].unique())\n",
    "\n",
    "# Real user-item interactions\n",
    "item_freq_ui = ui['item'].value_counts()\n",
    "print(\"Item frequency in UI view:\")\n",
    "print(item_freq_ui)\n",
    "print('\\n\\n')\n",
    "# Cold-item\n",
    "cold_item = set(item_freq_ui[item_freq_ui < 5].index)\n",
    "print(\"Number of cold-item:\", len(cold_item))\n",
    "# Warm-item\n",
    "warm_item = set(item_freq_ui[item_freq_ui >= 5].index)\n",
    "print(\"Number of warm-item:\", len(warm_item))\n",
    "non_interacted_item = i_bi.difference(i_bi.intersection(i_ui))\n",
    "print(\"Number of non-interacted item:\", len(non_interacted_item))\n",
    "\n",
    "print('\\n\\n')\n",
    "print(\"Statistics of item frequency in UI view:\")\n",
    "print(item_freq_ui.describe())"
   ]
  },
  {
   "cell_type": "code",
   "execution_count": 74,
   "metadata": {},
   "outputs": [
    {
     "name": "stdout",
     "output_type": "stream",
     "text": [
      "Item frequency in BI view:\n",
      "17427    394\n",
      "6109     390\n",
      "12058    376\n",
      "16253    353\n",
      "6740     343\n",
      "        ... \n",
      "16358      1\n",
      "15370      1\n",
      "15333      1\n",
      "14668      1\n",
      "1796       1\n",
      "Name: item, Length: 28074, dtype: int64\n",
      "\n",
      "\n",
      "\n",
      "Number of cold-bundle: 975\n",
      "Number of warm-bundle: 3796\n",
      "\n",
      "\n",
      "\n",
      "Statistics of item frequency in BI view:\n",
      "count    28074.000000\n",
      "mean         6.292904\n",
      "std         16.808898\n",
      "min          1.000000\n",
      "25%          1.000000\n",
      "50%          2.000000\n",
      "75%          5.000000\n",
      "max        394.000000\n",
      "Name: item, dtype: float64\n"
     ]
    }
   ],
   "source": [
    "# Real bundle-item interactions\n",
    "item_freq_bi = bi['item'].value_counts()\n",
    "\n",
    "print(\"Item frequency in BI view:\")\n",
    "print(item_freq_bi)\n",
    "\n",
    "cold_bundle = {}\n",
    "bi_lvl = {}\n",
    "\n",
    "for x in bi['bundle'].unique():\n",
    "    items = bi[bi['bundle'] == x]['item'].tolist()\n",
    "    bi_lvl[x] = items\n",
    "    n = len(items)\n",
    "    if len(set(items).intersection(cold_item)) + len(set(items).intersection(non_interacted_item)) >= n * 0.5:\n",
    "        cold_bundle[x] = items\n",
    "\n",
    "print('\\n\\n')\n",
    "print(\"Number of cold-bundle:\", len(cold_bundle))\n",
    "print(\"Number of warm-bundle:\", len(bi['bundle'].unique()) - len(cold_bundle))\n",
    "\n",
    "print('\\n\\n')\n",
    "print(\"Statistics of item frequency in BI view:\")\n",
    "print(item_freq_bi.describe())"
   ]
  },
  {
   "cell_type": "code",
   "execution_count": 3,
   "metadata": {},
   "outputs": [
    {
     "name": "stdout",
     "output_type": "stream",
     "text": [
      "[(0, 1), (1, 0), (1, 1), (2, 2), (2, 3), (3, 3), (3, 1), (4, 0)]\n"
     ]
    }
   ],
   "source": [
    "with open(\"ui.txt\", \"r\") as f:\n",
    "    u_i_pairs = list(map(lambda s: tuple(int(i) for i in s[:-1].split()), f.readlines()))\n",
    "\n",
    "print(u_i_pairs)"
   ]
  },
  {
   "cell_type": "code",
   "execution_count": 30,
   "metadata": {},
   "outputs": [],
   "source": [
    "indices = np.array(u_i_pairs, dtype=np.int32)\n",
    "values = np.ones(len(u_i_pairs), dtype=np.float32)\n",
    "u_i_graph = sp.coo_matrix(\n",
    "    (values, (indices[:, 0], indices[:, 1])), shape=(5, 4)).tocsr()"
   ]
  },
  {
   "cell_type": "code",
   "execution_count": 31,
   "metadata": {},
   "outputs": [],
   "source": [
    "item_level_graph = sp.bmat([[sp.csr_matrix((u_i_graph.shape[0], u_i_graph.shape[0])), u_i_graph], [u_i_graph.T, sp.csr_matrix((u_i_graph.shape[1], u_i_graph.shape[1]))]])"
   ]
  },
  {
   "cell_type": "code",
   "execution_count": 32,
   "metadata": {},
   "outputs": [
    {
     "data": {
      "text/plain": [
       "array([[0., 0., 0., 0., 0., 0., 1., 0., 0.],\n",
       "       [0., 0., 0., 0., 0., 1., 1., 0., 0.],\n",
       "       [0., 0., 0., 0., 0., 0., 0., 1., 1.],\n",
       "       [0., 0., 0., 0., 0., 0., 1., 0., 1.],\n",
       "       [0., 0., 0., 0., 0., 1., 0., 0., 0.],\n",
       "       [0., 1., 0., 0., 1., 0., 0., 0., 0.],\n",
       "       [1., 1., 0., 1., 0., 0., 0., 0., 0.],\n",
       "       [0., 0., 1., 0., 0., 0., 0., 0., 0.],\n",
       "       [0., 0., 1., 1., 0., 0., 0., 0., 0.]])"
      ]
     },
     "execution_count": 32,
     "metadata": {},
     "output_type": "execute_result"
    }
   ],
   "source": [
    "item_level_graph.toarray()"
   ]
  },
  {
   "cell_type": "code",
   "execution_count": 33,
   "metadata": {},
   "outputs": [],
   "source": [
    "def to_tensor(graph):\n",
    "    \"\"\"Convert to sparse tensor\"\"\"\n",
    "    graph = graph.tocoo()\n",
    "    values = graph.data\n",
    "    indices = np.vstack((graph.row, graph.col))\n",
    "    graph = torch.sparse_coo_tensor(torch.LongTensor(indices), torch.FloatTensor(values), torch.Size(graph.shape))\n",
    "    \n",
    "    return graph\n",
    "\n",
    "def get_user_prop_graph( bipartite_graph, modification_ratio=0):\n",
    "        # device = self.device\n",
    "        propagation_graph = sp.bmat([[sp.csr_matrix((bipartite_graph.shape[0], bipartite_graph.shape[0])), bipartite_graph], [bipartite_graph.T, sp.csr_matrix((bipartite_graph.shape[1], bipartite_graph.shape[1]))]])\n",
    "        \n",
    "        degree = np.array(propagation_graph.sum(axis=1)).squeeze()\n",
    "        degree = np.maximum(1., degree)\n",
    "        d_inv = np.power(degree, -0.5)\n",
    "        d_mat = sp.diags(d_inv, format='csr', dtype=np.float32)\n",
    "        \n",
    "        # norm_adj = d_mat.dot(propagation_graph).dot(d_mat)\n",
    "        norm_adj = d_mat @ propagation_graph @ d_mat\n",
    "        norm_adj = to_tensor(norm_adj)\n",
    "        return norm_adj\n",
    "    \n",
    "rep= get_user_prop_graph(item_level_graph)"
   ]
  },
  {
   "cell_type": "code",
   "execution_count": 34,
   "metadata": {},
   "outputs": [],
   "source": [
    "row, col = rep.coalesce().indices()"
   ]
  },
  {
   "cell_type": "code",
   "execution_count": 26,
   "metadata": {},
   "outputs": [],
   "source": [
    "train_item_result = [\n",
    "    [0, 1, 2],  # Users 0, 1, 2 interacted with item 0\n",
    "    [2, 3],     # Users 2, 3 interacted with item 1\n",
    "    [0, 2, 3],  # Users 0, 2, 3 interacted with item 2\n",
    "]"
   ]
  },
  {
   "cell_type": "code",
   "execution_count": 28,
   "metadata": {},
   "outputs": [],
   "source": [
    "ground_truth_pairs = []\n",
    "for item, rec_user_set in enumerate(train_item_result):\n",
    "    rec_user_set = [int(u) for u in rec_user_set]\n",
    "    # rec_map[rec_user_set, item] = 1\n",
    "    ground_truth_pairs.extend(list(zip(rec_user_set, [item]*len(rec_user_set))))"
   ]
  },
  {
   "cell_type": "code",
   "execution_count": 29,
   "metadata": {},
   "outputs": [
    {
     "data": {
      "text/plain": [
       "[(0, 0), (1, 0), (2, 0), (2, 1), (3, 1), (0, 2), (2, 2), (3, 2)]"
      ]
     },
     "execution_count": 29,
     "metadata": {},
     "output_type": "execute_result"
    }
   ],
   "source": [
    "ground_truth_pairs"
   ]
  },
  {
   "cell_type": "code",
   "execution_count": 40,
   "metadata": {},
   "outputs": [],
   "source": [
    "a = torch.Tensor(u_i_graph.nonzero()[1])"
   ]
  },
  {
   "cell_type": "code",
   "execution_count": 45,
   "metadata": {},
   "outputs": [],
   "source": [
    "uniques, counts = a.unique(return_counts=True)\n",
    "values = torch.Tensor([1,2,3,4,5,6,7,8])"
   ]
  },
  {
   "cell_type": "code",
   "execution_count": 46,
   "metadata": {},
   "outputs": [],
   "source": [
    "reduce = torch.sum\n",
    "groups = torch.stack([reduce(item) for item in torch.split_with_sizes(values, tuple(counts))])"
   ]
  },
  {
   "cell_type": "code",
   "execution_count": 47,
   "metadata": {},
   "outputs": [
    {
     "data": {
      "text/plain": [
       "tensor([ 3., 12.,  6., 15.])"
      ]
     },
     "execution_count": 47,
     "metadata": {},
     "output_type": "execute_result"
    }
   ],
   "source": [
    "groups"
   ]
  },
  {
   "cell_type": "code",
   "execution_count": 50,
   "metadata": {},
   "outputs": [
    {
     "data": {
      "text/plain": [
       "matrix([[2.],\n",
       "        [3.],\n",
       "        [1.],\n",
       "        [2.]], dtype=float32)"
      ]
     },
     "execution_count": 50,
     "metadata": {},
     "output_type": "execute_result"
    }
   ],
   "source": [
    "u_i_graph.sum(axis=0).squeeze().T"
   ]
  },
  {
   "cell_type": "code",
   "execution_count": null,
   "metadata": {},
   "outputs": [],
   "source": []
  }
 ],
 "metadata": {
  "kernelspec": {
   "display_name": "hieu",
   "language": "python",
   "name": "python3"
  },
  "language_info": {
   "codemirror_mode": {
    "name": "ipython",
    "version": 3
   },
   "file_extension": ".py",
   "mimetype": "text/x-python",
   "name": "python",
   "nbconvert_exporter": "python",
   "pygments_lexer": "ipython3",
   "version": "3.10.12"
  }
 },
 "nbformat": 4,
 "nbformat_minor": 2
}
